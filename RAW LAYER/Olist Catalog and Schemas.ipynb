{
 "cells": [
  {
   "cell_type": "code",
   "execution_count": 0,
   "metadata": {
    "application/vnd.databricks.v1+cell": {
     "cellMetadata": {
      "byteLimit": 2048000,
      "implicitDf": true,
      "rowLimit": 10000
     },
     "inputWidgets": {},
     "nuid": "85530ac9-5878-41a9-962a-10f106de4300",
     "showTitle": false,
     "tableResultSettingsMap": {},
     "title": ""
    }
   },
   "outputs": [],
   "source": [
    "%sql\n",
    "CREATE CATALOG IF NOT EXISTS olist;"
   ]
  },
  {
   "cell_type": "code",
   "execution_count": 0,
   "metadata": {
    "application/vnd.databricks.v1+cell": {
     "cellMetadata": {
      "byteLimit": 2048000,
      "implicitDf": true,
      "rowLimit": 10000
     },
     "inputWidgets": {},
     "nuid": "b53096f0-99f3-4202-899b-645a7d7daa30",
     "showTitle": false,
     "tableResultSettingsMap": {},
     "title": ""
    }
   },
   "outputs": [],
   "source": [
    "%sql\n",
    "USE CATALOG olist;"
   ]
  },
  {
   "cell_type": "code",
   "execution_count": 0,
   "metadata": {
    "application/vnd.databricks.v1+cell": {
     "cellMetadata": {
      "byteLimit": 2048000,
      "implicitDf": true,
      "rowLimit": 10000
     },
     "inputWidgets": {},
     "nuid": "fec0b799-3370-477b-8cca-43f64672fead",
     "showTitle": false,
     "tableResultSettingsMap": {},
     "title": ""
    }
   },
   "outputs": [],
   "source": [
    "%sql\n",
    "CREATE SCHEMA olist.raw;\n",
    "CREATE SCHEMA olist.bronze;\n",
    "CREATE SCHEMA olist.silver;\n",
    "CREATE SCHEMA olist.gold;"
   ]
  },
  {
   "cell_type": "code",
   "execution_count": 0,
   "metadata": {
    "application/vnd.databricks.v1+cell": {
     "cellMetadata": {
      "byteLimit": 2048000,
      "implicitDf": true,
      "rowLimit": 10000
     },
     "inputWidgets": {},
     "nuid": "d62a69a3-3f26-47bc-a63f-89e006bbc5fb",
     "showTitle": false,
     "tableResultSettingsMap": {},
     "title": ""
    }
   },
   "outputs": [],
   "source": [
    "%sql\n",
    "CREATE VOLUME olist.raw.customers;\n",
    "CREATE VOLUME olist.raw.orders;\n",
    "CREATE VOLUME olist.raw.order_items;\n",
    "CREATE VOLUME olist.raw.order_payments;\n",
    "CREATE VOLUME olist.raw.order_reviews;\n",
    "CREATE VOLUME olist.raw.products;\n",
    "CREATE VOLUME olist.raw.product_category_name_translation;\n",
    "CREATE VOLUME olist.raw.geolocation;\n",
    "CREATE VOLUME olist.raw.sellers;"
   ]
  },
  {
   "cell_type": "code",
   "execution_count": 0,
   "metadata": {
    "application/vnd.databricks.v1+cell": {
     "cellMetadata": {
      "byteLimit": 2048000,
      "implicitDf": true,
      "rowLimit": 10000
     },
     "inputWidgets": {},
     "nuid": "965bc5bd-ac7b-4d72-92f8-48c7eedb2877",
     "showTitle": false,
     "tableResultSettingsMap": {},
     "title": ""
    }
   },
   "outputs": [],
   "source": [
    "%sql\n",
    "CREATE VOLUME olist.bronze.customers;\n",
    "CREATE VOLUME olist.bronze.orders;\n",
    "CREATE VOLUME olist.bronze.order_items;\n",
    "CREATE VOLUME olist.bronze.order_payments;\n",
    "CREATE VOLUME olist.bronze.order_reviews;\n",
    "CREATE VOLUME olist.bronze.products;\n",
    "CREATE VOLUME olist.bronze.product_category_name_translation;\n",
    "CREATE VOLUME olist.bronze.geolocation;\n",
    "CREATE VOLUME olist.bronze.sellers;"
   ]
  },
  {
   "cell_type": "code",
   "execution_count": 0,
   "metadata": {
    "application/vnd.databricks.v1+cell": {
     "cellMetadata": {
      "byteLimit": 2048000,
      "rowLimit": 10000
     },
     "inputWidgets": {},
     "nuid": "eb0ea542-1aa4-454f-868c-e699f29c2562",
     "showTitle": false,
     "tableResultSettingsMap": {},
     "title": ""
    }
   },
   "outputs": [],
   "source": [
    "from pyspark.dbutils import DBUtils\n",
    "dbutils = DBUtils(spark)\n",
    "\n",
    "# List of dataset folders (matching volume names)\n",
    "volume_folders = [\n",
    "    \"customers\",\n",
    "    \"orders\",\n",
    "    \"order_items\",\n",
    "    \"order_payments\",\n",
    "    \"order_reviews\",\n",
    "    \"products\",\n",
    "    \"product_category_name_translation\",\n",
    "    \"geolocation\",\n",
    "    \"sellers\"\n",
    "]\n",
    "\n",
    "# Move all files from bronze volumes to raw volumes\n",
    "for folder in volume_folders:\n",
    "    source_dir = f\"/Volumes/olist/bronze/{folder}/\"\n",
    "    target_dir = f\"/Volumes/olist/raw/{folder}/\"\n",
    "    \n",
    "    try:\n",
    "        # List files in source directory\n",
    "        files = dbutils.fs.ls(source_dir)\n",
    "        \n",
    "        for file in files:\n",
    "            source_file = file.path\n",
    "            file_name = file.name\n",
    "            target_file = f\"{target_dir}{file_name}\"\n",
    "            \n",
    "            # Move each file\n",
    "            dbutils.fs.mv(source_file, target_file)\n",
    "            print(f\"Moved {file_name} → {target_dir}\")\n",
    "    \n",
    "    except Exception as e:\n",
    "        print(f\"Failed to process folder '{folder}': {e}\")\n"
   ]
  }
 ],
 "metadata": {
  "application/vnd.databricks.v1+notebook": {
   "computePreferences": {
    "hardware": {
     "accelerator": null,
     "gpuPoolId": null,
     "memory": "HIGH"
    }
   },
   "dashboards": [],
   "environmentMetadata": {
    "base_environment": "",
    "environment_version": "2"
   },
   "inputWidgetPreferences": null,
   "language": "python",
   "notebookMetadata": {
    "mostRecentlyExecutedCommandWithImplicitDF": {
     "commandId": 8773173933727426,
     "dataframes": [
      "_sqldf"
     ]
    },
    "pythonIndentUnit": 4
   },
   "notebookName": "Olist Catalog and Schemas",
   "widgets": {}
  },
  "language_info": {
   "name": "python"
  }
 },
 "nbformat": 4,
 "nbformat_minor": 0
}

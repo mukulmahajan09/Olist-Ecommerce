{
 "cells": [
  {
   "cell_type": "markdown",
   "metadata": {
    "application/vnd.databricks.v1+cell": {
     "cellMetadata": {},
     "inputWidgets": {},
     "nuid": "ad8bd8ec-e5aa-48da-a1e2-f1b2c3581af5",
     "showTitle": false,
     "tableResultSettingsMap": {},
     "title": ""
    }
   },
   "source": [
    "## **SCHEMA**"
   ]
  },
  {
   "cell_type": "code",
   "execution_count": 0,
   "metadata": {
    "application/vnd.databricks.v1+cell": {
     "cellMetadata": {
      "byteLimit": 2048000,
      "rowLimit": 10000
     },
     "inputWidgets": {},
     "nuid": "6d84de05-34dc-45a7-a220-bf869901feb9",
     "showTitle": false,
     "tableResultSettingsMap": {},
     "title": ""
    }
   },
   "outputs": [],
   "source": [
    "customers_sch = \"customer_id STRING, customer_unique_id STRING, customer_zip_code_prefix STRING, customer_city STRING, customer_state STRING\"\n",
    "\n",
    "geolocation_sch = \"geolocation_zip_code_prefix STRING, geolocation_lat DOUBLE, geolocation_lng DOUBLE, geolocation_city STRING, geolocation_state STRING\"\n",
    "\n",
    "order_items_sch = \"order_id STRING, order_item_id STRING, product_id STRING, seller_id STRING, shipping_limit_date TIMESTAMP, price DOUBLE, freight_value DOUBLE\"\n",
    "\n",
    "order_payments_sch = \"order_id STRING, payment_sequential INT, payment_type STRING, payment_installments INT, payment_value DOUBLE\"\n",
    "\n",
    "order_reviews_sch = \"review_id STRING, order_id STRING, review_score INT, review_comment_title STRING, review_comment_message STRING, review_creation_date DATE, review_answer_timestamp TIMESTAMP\"\n",
    "\n",
    "orders_sch = \"order_id STRING, customer_id STRING, order_status STRING, order_purchase_timestamp TIMESTAMP, order_approved_at TIMESTAMP, order_delivered_carrier_date TIMESTAMP, order_delivered_customer_date TIMESTAMP, order_estimated_delivery_date TIMESTAMP\"\n",
    "\n",
    "products_sch = \"product_id STRING, product_category_name STRING, product_name_lenght INT, product_description_lenght INT, product_photos_qty INT, product_weight_g DOUBLE, product_length_cm DOUBLE, product_height_cm DOUBLE, product_width_cm DOUBLE\"\n",
    "\n",
    "sellers_sch = \"seller_id STRING, seller_zip_code_prefix STRING, seller_city STRING, seller_state STRING\"\n",
    "\n",
    "products_name_translation_sch = \"product_category_name STRING, product_category_name_english STRING\""
   ]
  },
  {
   "cell_type": "markdown",
   "metadata": {
    "application/vnd.databricks.v1+cell": {
     "cellMetadata": {},
     "inputWidgets": {},
     "nuid": "8fcb1aa4-a4f7-497f-87f8-436c6251103f",
     "showTitle": false,
     "tableResultSettingsMap": {},
     "title": ""
    }
   },
   "source": [
    "## **DATAFRAME**"
   ]
  },
  {
   "cell_type": "code",
   "execution_count": 0,
   "metadata": {
    "application/vnd.databricks.v1+cell": {
     "cellMetadata": {
      "byteLimit": 2048000,
      "rowLimit": 10000
     },
     "inputWidgets": {},
     "nuid": "9798cca8-211f-48cc-902c-70fecd688d07",
     "showTitle": false,
     "tableResultSettingsMap": {},
     "title": ""
    }
   },
   "outputs": [],
   "source": [
    "customers_df = spark.read.csv(\"/Volumes/olist/raw/customers/olist_customers_dataset.csv\", schema=customers_sch, header=True)\n",
    "\n",
    "geolocation_df = spark.read.csv(\"/Volumes/olist/raw/geolocation/olist_geolocation_dataset.csv\", schema=geolocation_sch, header=True)\n",
    "\n",
    "order_items_df = spark.read.csv(\"/Volumes/olist/raw/order_items/olist_order_items_dataset.csv\", schema=order_items_sch, header=True)\n",
    "\n",
    "order_payments_df = spark.read.csv(\"/Volumes/olist/raw/order_payments/olist_order_payments_dataset.csv\", schema=order_payments_sch, header=True)\n",
    "\n",
    "order_reviews_df = spark.read.csv(\"/Volumes/olist/raw/order_reviews/olist_order_reviews_dataset.csv\", schema=order_reviews_sch, header=True)\n",
    "\n",
    "orders_df = spark.read.csv(\"/Volumes/olist/raw/orders/olist_orders_dataset.csv\", schema=orders_sch, header=True)\n",
    "\n",
    "products_df = spark.read.csv(\"/Volumes/olist/raw/products/olist_products_dataset.csv\", schema=products_sch, header=True)\n",
    "\n",
    "sellers_df = spark.read.csv(\"/Volumes/olist/raw/sellers/olist_sellers_dataset.csv\", schema=sellers_sch, header=True)\n",
    "\n",
    "products_name_translation_df = spark.read.csv(\"/Volumes/olist/raw/product_category_name_translation/product_category_name_translation.csv\", schema=products_name_translation_sch, header=True)"
   ]
  }
 ],
 "metadata": {
  "application/vnd.databricks.v1+notebook": {
   "computePreferences": null,
   "dashboards": [],
   "environmentMetadata": {
    "base_environment": "",
    "environment_version": "2"
   },
   "inputWidgetPreferences": null,
   "language": "python",
   "notebookMetadata": {
    "pythonIndentUnit": 4
   },
   "notebookName": "Olist Ecommerce Dataframes",
   "widgets": {}
  },
  "language_info": {
   "name": "python"
  }
 },
 "nbformat": 4,
 "nbformat_minor": 0
}

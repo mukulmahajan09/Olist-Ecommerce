{
 "cells": [
  {
   "cell_type": "markdown",
   "metadata": {
    "application/vnd.databricks.v1+cell": {
     "cellMetadata": {},
     "inputWidgets": {},
     "nuid": "7d086ac5-7ed7-4789-ae68-efed2de8f28c",
     "showTitle": false,
     "tableResultSettingsMap": {},
     "title": ""
    }
   },
   "source": [
    "1. Schema Validation\n",
    "\n",
    "    Column Names & Data Types: Verify column names and data types match expectations (e.g., dates as datetime, numerical fields as int/float).\n",
    "\n",
    "    Schema Enforcement: Use tools like PySpark or Pandera to enforce predefined schemas.\n",
    "\n",
    "    Unexpected Columns: Check for extra/missing columns.\n",
    "\n",
    "2. Data Quality Checks\n",
    "\n",
    "    Null/Missing Values:\n",
    "\n",
    "        Identify columns with nulls.\n",
    "\n",
    "        Validate against allowed thresholds (e.g., \"customer_id\" must have 0% nulls).\n",
    "\n",
    "    Duplicates:\n",
    "\n",
    "        Detect duplicate rows.\n",
    "\n",
    "        Ensure primary key uniqueness (e.g., user IDs are unique).\n",
    "\n",
    "    Data Formats:\n",
    "\n",
    "        Validate formats (e.g., dates as YYYY-MM-DD, emails with regex).\n",
    "\n",
    "        Check categorical values against allowed lists (e.g., \"status\" ∈ [\"active\", \"inactive\"]).\n",
    "\n",
    "    Numeric Ranges:\n",
    "\n",
    "        Ensure values fall within expected ranges (e.g., age ≥ 0, salary ≥ minimum wage).\n",
    "\n",
    "    Outliers: Use statistical methods (IQR, Z-score) to flag anomalies.\n",
    "\n",
    "3. Integrity Checks\n",
    "\n",
    "    Referential Integrity: Validate foreign keys against related tables (e.g., order.customer_id exists in customer.id).\n",
    "\n",
    "    Business Rules:\n",
    "\n",
    "        Enforce domain-specific logic (e.g., \"discount\" ≤ 30% for non-premium users).\n",
    "\n",
    "        Validate cross-field dependencies (e.g., end_date ≥ start_date).\n",
    "\n",
    "4. Consistency Checks\n",
    "\n",
    "    Across Sources: Compare overlapping data from different sources (e.g., revenue figures in CSV vs. database).\n",
    "\n",
    "    Historical Consistency: Ensure new data distributions match historical trends (e.g., sudden spikes in user signups).\n",
    "\n",
    "5. Statistical Validation\n",
    "\n",
    "    Summary Statistics: Check mean, median, std dev, and quantiles for unexpected shifts.\n",
    "\n",
    "    Data Distribution: Validate distributions of categorical/numerical fields (e.g., country ratios remain stable).\n",
    "\n",
    "6. Structural/File Validation\n",
    "\n",
    "    Row Count: Ensure row count aligns with source (e.g., CSV row count matches wc -l).\n",
    "\n",
    "    File Integrity: Validate file formats (e.g., CSV delimiters, JSON nesting) and compression.\n",
    "\n",
    "    Encoding: Check for correct character encoding (e.g., UTF-8) and special characters.\n",
    "\n",
    "7. Operational Checks\n",
    "\n",
    "    Data Freshness: Confirm data is up-to-date (e.g., latest transaction timestamp is recent).\n",
    "\n",
    "    Performance: Assess data size and partitioning for efficient processing.\n",
    "\n",
    "    Security: Mask/encrypt sensitive fields (e.g., PII, passwords).\n",
    "\n",
    "8. Domain-Specific Rules\n",
    "\n",
    "    Compliance: Ensure adherence to regulations (e.g., GDPR, HIPAA).\n",
    "\n",
    "    Unit Consistency: Standardize units (e.g., currency, weight) across sources.\n",
    "\n",
    "    Deprecated Values: Flag legacy codes or discontinued product IDs.\n",
    "\n",
    "9. Logging & Reporting\n",
    "\n",
    "    Error Logs: Record validation failures for debugging.\n",
    "\n",
    "    Summary Reports: Generate pass/fail summaries for stakeholders."
   ]
  },
  {
   "cell_type": "code",
   "execution_count": 0,
   "metadata": {
    "application/vnd.databricks.v1+cell": {
     "cellMetadata": {
      "byteLimit": 2048000,
      "rowLimit": 10000
     },
     "inputWidgets": {},
     "nuid": "f9a8156b-ac2b-4f51-a75e-816ff7ae46c4",
     "showTitle": false,
     "tableResultSettingsMap": {},
     "title": ""
    }
   },
   "outputs": [],
   "source": [
    "%run \"./Ecommerce Dataset Schema and Dataframes\""
   ]
  },
  {
   "cell_type": "markdown",
   "metadata": {
    "application/vnd.databricks.v1+cell": {
     "cellMetadata": {},
     "inputWidgets": {},
     "nuid": "e8a64952-5e7d-4be3-98e1-e9e451b09d6c",
     "showTitle": false,
     "tableResultSettingsMap": {},
     "title": ""
    }
   },
   "source": [
    "### **CHECK DATA LEKAGE OR DROP ANY ROWS DURING IMPORTING THE DATA**"
   ]
  },
  {
   "cell_type": "code",
   "execution_count": 0,
   "metadata": {
    "application/vnd.databricks.v1+cell": {
     "cellMetadata": {
      "byteLimit": 2048000,
      "rowLimit": 10000
     },
     "inputWidgets": {},
     "nuid": "fe9232dd-c0b7-497f-b3c2-e7535cc809af",
     "showTitle": false,
     "tableResultSettingsMap": {},
     "title": ""
    }
   },
   "outputs": [],
   "source": [
    "display(customers_df.count())\n",
    "display(geolocation_df.count())\n",
    "display(order_items_df.count())\n",
    "display(order_payments_df.count())\n",
    "display(order_reviews_df.count())\n",
    "display(orders_df.count())\n",
    "display(products_df.count())\n",
    "display(sellers_df.count())"
   ]
  },
  {
   "cell_type": "markdown",
   "metadata": {
    "application/vnd.databricks.v1+cell": {
     "cellMetadata": {},
     "inputWidgets": {},
     "nuid": "0859a548-765a-4647-b83d-4939a7e86fce",
     "showTitle": false,
     "tableResultSettingsMap": {},
     "title": ""
    }
   },
   "source": [
    "### **CHECK DUPLICATE VALUES**"
   ]
  },
  {
   "cell_type": "code",
   "execution_count": 0,
   "metadata": {
    "application/vnd.databricks.v1+cell": {
     "cellMetadata": {
      "byteLimit": 2048000,
      "rowLimit": 10000
     },
     "inputWidgets": {},
     "nuid": "31daf8f2-792f-49ac-8f20-7517a6cb5e26",
     "showTitle": false,
     "tableResultSettingsMap": {},
     "title": ""
    }
   },
   "outputs": [],
   "source": [
    "from pyspark.sql.functions import col"
   ]
  },
  {
   "cell_type": "code",
   "execution_count": 0,
   "metadata": {
    "application/vnd.databricks.v1+cell": {
     "cellMetadata": {
      "byteLimit": 2048000,
      "rowLimit": 10000
     },
     "inputWidgets": {},
     "nuid": "a73f0228-7fca-4d5a-a68a-bf1ff32f9129",
     "showTitle": false,
     "tableResultSettingsMap": {},
     "title": ""
    }
   },
   "outputs": [],
   "source": [
    "def dup_values(df, df_name, column):\n",
    "    print(f\"Duplicate Values: {df_name}\")\n",
    "    display(df.groupBy(col(column)).count().filter('count>1'))"
   ]
  },
  {
   "cell_type": "code",
   "execution_count": 0,
   "metadata": {
    "application/vnd.databricks.v1+cell": {
     "cellMetadata": {
      "byteLimit": 2048000,
      "rowLimit": 10000
     },
     "inputWidgets": {},
     "nuid": "d8757886-ba84-43b6-9276-711626f884f2",
     "showTitle": false,
     "tableResultSettingsMap": {},
     "title": ""
    }
   },
   "outputs": [],
   "source": [
    "dup_values(customers_df, \"Customer\", \"customer_id\")\n",
    "dup_values(order_items_df, \"Order Items\", \"order_id\")\n",
    "dup_values(order_reviews_df, \"Order Reviews\", \"review_id\")\n",
    "dup_values(orders_df, \"Orders\", \"order_id\")\n",
    "dup_values(products_df, \"Products\", \"product_id\")\n",
    "dup_values(sellers_df, \"Sellers\", \"seller_id\")"
   ]
  },
  {
   "cell_type": "markdown",
   "metadata": {
    "application/vnd.databricks.v1+cell": {
     "cellMetadata": {},
     "inputWidgets": {},
     "nuid": "f2b35e96-d1c8-4c9c-9799-7b9a7d7f98a1",
     "showTitle": false,
     "tableResultSettingsMap": {},
     "title": ""
    }
   },
   "source": [
    "### **CHECK NULL VALUES**"
   ]
  },
  {
   "cell_type": "code",
   "execution_count": 0,
   "metadata": {
    "application/vnd.databricks.v1+cell": {
     "cellMetadata": {
      "byteLimit": 2048000,
      "rowLimit": 10000
     },
     "inputWidgets": {},
     "nuid": "e6b13540-6f29-48b3-b57a-c4c65b1757a3",
     "showTitle": false,
     "tableResultSettingsMap": {},
     "title": ""
    }
   },
   "outputs": [],
   "source": [
    "from pyspark.sql.functions import col, when, count\n",
    "\n",
    "def missing_value(df, df_name):\n",
    "    print(f\"Missing Values: {df_name}\")\n",
    "    display(df.select([count(when(col(c).isNull(), 1)).alias(c) for c in df.columns]))"
   ]
  },
  {
   "cell_type": "code",
   "execution_count": 0,
   "metadata": {
    "application/vnd.databricks.v1+cell": {
     "cellMetadata": {
      "byteLimit": 2048000,
      "rowLimit": 10000
     },
     "inputWidgets": {},
     "nuid": "a1b6f28b-b2f9-4699-8d18-bfd5008ee072",
     "showTitle": false,
     "tableResultSettingsMap": {},
     "title": ""
    }
   },
   "outputs": [],
   "source": [
    "missing_value(customers_df, \"Customer\")\n",
    "missing_value(geolocation_df, \"Gelocation\")\n",
    "missing_value(order_items_df, \"Order Items\")\n",
    "missing_value(order_payments_df, \"Order Payments\")\n",
    "missing_value(order_reviews_df, \"Order Reviews\")\n",
    "missing_value(orders_df, \"Orders\")\n",
    "missing_value(products_df, \"Products\")\n",
    "missing_value(sellers_df, \"Sellers\")"
   ]
  }
 ],
 "metadata": {
  "application/vnd.databricks.v1+notebook": {
   "computePreferences": null,
   "dashboards": [],
   "environmentMetadata": {
    "base_environment": "",
    "environment_version": "2"
   },
   "inputWidgetPreferences": null,
   "language": "python",
   "notebookMetadata": {
    "pythonIndentUnit": 4
   },
   "notebookName": "Data Quality and Integrity Validation for Olist Datasets",
   "widgets": {}
  },
  "language_info": {
   "name": "python"
  }
 },
 "nbformat": 4,
 "nbformat_minor": 0
}

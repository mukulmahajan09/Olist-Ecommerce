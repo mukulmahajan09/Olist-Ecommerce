{
 "cells": [
  {
   "cell_type": "markdown",
   "metadata": {
    "application/vnd.databricks.v1+cell": {
     "cellMetadata": {},
     "inputWidgets": {},
     "nuid": "0fdcb47a-5950-4f16-90a9-177bc362d5d2",
     "showTitle": false,
     "tableResultSettingsMap": {},
     "title": ""
    }
   },
   "source": [
    "### **CREATE FACTS AND DIMENSION**"
   ]
  },
  {
   "cell_type": "code",
   "execution_count": 0,
   "metadata": {
    "application/vnd.databricks.v1+cell": {
     "cellMetadata": {
      "byteLimit": 2048000,
      "implicitDf": true,
      "rowLimit": 10000
     },
     "collapsed": true,
     "inputWidgets": {},
     "nuid": "584e66b6-b73a-4119-b16c-51b8eddea7ac",
     "showTitle": false,
     "tableResultSettingsMap": {},
     "title": ""
    }
   },
   "outputs": [],
   "source": [
    "%sql\n",
    "SELECT * FROM olist.gold.final_df;"
   ]
  },
  {
   "cell_type": "code",
   "execution_count": 0,
   "metadata": {
    "application/vnd.databricks.v1+cell": {
     "cellMetadata": {
      "byteLimit": 2048000,
      "implicitDf": true,
      "rowLimit": 10000
     },
     "collapsed": true,
     "inputWidgets": {},
     "nuid": "0d14ebb8-c978-462f-9bc9-7242ce781e34",
     "showTitle": false,
     "tableResultSettingsMap": {
      "0": {
       "dataGridStateBlob": "{\"version\":1,\"tableState\":{\"columnPinning\":{\"left\":[\"#row_number#\"],\"right\":[]},\"columnSizing\":{\"col_name\":289},\"columnVisibility\":{}},\"settings\":{\"columns\":{}},\"syncTimestamp\":1752960945348}",
       "filterBlob": "{\"version\":1,\"filterGroups\":[],\"syncTimestamp\":1753206268208}",
       "queryPlanFiltersBlob": "[]",
       "tableResultIndex": 0
      }
     },
     "title": ""
    }
   },
   "outputs": [],
   "source": [
    "%sql\n",
    "DESCRIBE TABLE olist.gold.final_df;"
   ]
  },
  {
   "cell_type": "code",
   "execution_count": 0,
   "metadata": {
    "application/vnd.databricks.v1+cell": {
     "cellMetadata": {
      "byteLimit": 2048000,
      "implicitDf": true,
      "rowLimit": 10000
     },
     "inputWidgets": {},
     "nuid": "0621e12a-ae8f-45d5-870f-5a032f0db1b6",
     "showTitle": false,
     "tableResultSettingsMap": {},
     "title": ""
    }
   },
   "outputs": [],
   "source": [
    "%sql\n",
    "DESCRIBE TABLE olist.gold.final_df;"
   ]
  },
  {
   "cell_type": "code",
   "execution_count": 0,
   "metadata": {
    "application/vnd.databricks.v1+cell": {
     "cellMetadata": {
      "byteLimit": 2048000,
      "rowLimit": 10000
     },
     "inputWidgets": {},
     "nuid": "5eb86884-3f45-447c-96f1-5c78328de9b1",
     "showTitle": false,
     "tableResultSettingsMap": {},
     "title": ""
    }
   },
   "outputs": [],
   "source": [
    "final_df.printSchema()"
   ]
  },
  {
   "cell_type": "code",
   "execution_count": 0,
   "metadata": {
    "application/vnd.databricks.v1+cell": {
     "cellMetadata": {
      "byteLimit": 2048000,
      "implicitDf": true,
      "rowLimit": 10000
     },
     "inputWidgets": {},
     "nuid": "33941ac2-d9c7-442a-a681-6bf49e323b14",
     "showTitle": false,
     "tableResultSettingsMap": {},
     "title": ""
    }
   },
   "outputs": [],
   "source": [
    "%sql\n",
    "CREATE TABLE AS dim_orders\n",
    "olist.silver.final_df\n",
    "AS\n",
    "SELECT  FROM olist.gold.final_df"
   ]
  },
  {
   "cell_type": "markdown",
   "metadata": {
    "application/vnd.databricks.v1+cell": {
     "cellMetadata": {
      "byteLimit": 2048000,
      "rowLimit": 10000
     },
     "inputWidgets": {},
     "nuid": "1f6065e3-25b8-416b-9b03-4cae4871d410",
     "showTitle": false,
     "tableResultSettingsMap": {},
     "title": ""
    }
   },
   "source": [
    "### **TRANSFORMATION**"
   ]
  },
  {
   "cell_type": "code",
   "execution_count": 0,
   "metadata": {
    "application/vnd.databricks.v1+cell": {
     "cellMetadata": {
      "byteLimit": 2048000,
      "rowLimit": 10000
     },
     "inputWidgets": {},
     "nuid": "40abb451-926b-4400-8c17-16ff2c860e40",
     "showTitle": false,
     "tableResultSettingsMap": {},
     "title": ""
    }
   },
   "outputs": [],
   "source": [
    "final_df = spark.read.format(\"delta\").load(\"/Volumes/olist/silver/final_df\")"
   ]
  },
  {
   "cell_type": "code",
   "execution_count": 0,
   "metadata": {
    "application/vnd.databricks.v1+cell": {
     "cellMetadata": {
      "byteLimit": 2048000,
      "rowLimit": 10000
     },
     "inputWidgets": {},
     "nuid": "435364e2-43eb-43b2-9437-dffe93c4c532",
     "showTitle": false,
     "tableResultSettingsMap": {},
     "title": ""
    }
   },
   "outputs": [],
   "source": [
    "# Finding Count Of Customer By State & City\n",
    "\n",
    "display(customers_df.groupBy('customer_state','customer_city').count().orderBy('count', ascending=False))"
   ]
  },
  {
   "cell_type": "code",
   "execution_count": 0,
   "metadata": {
    "application/vnd.databricks.v1+cell": {
     "cellMetadata": {
      "byteLimit": 2048000,
      "rowLimit": 10000
     },
     "collapsed": true,
     "inputWidgets": {},
     "nuid": "1ca043a1-c118-42a3-b4a1-accebba6315f",
     "showTitle": false,
     "tableResultSettingsMap": {},
     "title": ""
    }
   },
   "outputs": [],
   "source": [
    "# Order Status\n",
    "\n",
    "display(orders_df.groupBy('order_status').count().orderBy('count', ascending=False))"
   ]
  },
  {
   "cell_type": "code",
   "execution_count": 0,
   "metadata": {
    "application/vnd.databricks.v1+cell": {
     "cellMetadata": {
      "byteLimit": 2048000,
      "rowLimit": 10000
     },
     "collapsed": true,
     "inputWidgets": {},
     "nuid": "373a5c16-c4a8-44a6-8fba-f68bd958fb82",
     "showTitle": false,
     "tableResultSettingsMap": {},
     "title": ""
    }
   },
   "outputs": [],
   "source": [
    "# Payment Type\n",
    "\n",
    "display(order_payments_df.groupBy('payment_type').count().orderBy('count', ascending=False))"
   ]
  },
  {
   "cell_type": "code",
   "execution_count": 0,
   "metadata": {
    "application/vnd.databricks.v1+cell": {
     "cellMetadata": {
      "byteLimit": 2048000,
      "rowLimit": 10000
     },
     "collapsed": true,
     "inputWidgets": {},
     "nuid": "34a5c0af-7243-4a62-8815-84d19691e9d8",
     "showTitle": false,
     "tableResultSettingsMap": {},
     "title": ""
    }
   },
   "outputs": [],
   "source": [
    "# Top Selling Products\n",
    "\n",
    "from pyspark.sql.functions import sum, round\n",
    "\n",
    "display(\n",
    "    order_items_df.groupBy('product_id') \\\n",
    "    .agg(round(sum('price'), 2).alias('total_sales')) \\\n",
    "    .orderBy('total_sales', ascending=False)\n",
    "    )"
   ]
  },
  {
   "cell_type": "code",
   "execution_count": 0,
   "metadata": {
    "application/vnd.databricks.v1+cell": {
     "cellMetadata": {
      "byteLimit": 2048000,
      "rowLimit": 10000
     },
     "inputWidgets": {},
     "nuid": "5dfc8b47-860b-475f-ae57-99b987978b9d",
     "showTitle": false,
     "tableResultSettingsMap": {},
     "title": ""
    }
   },
   "outputs": [],
   "source": [
    "delivery_df.write.mode('overwrite').parquet('/Volumes/olist/bronze/Delivery')"
   ]
  },
  {
   "cell_type": "code",
   "execution_count": 0,
   "metadata": {
    "application/vnd.databricks.v1+cell": {
     "cellMetadata": {
      "byteLimit": 2048000,
      "rowLimit": 10000
     },
     "collapsed": true,
     "inputWidgets": {},
     "nuid": "594629fe-26bd-4e1d-8296-1d79fc8f5e0c",
     "showTitle": false,
     "tableResultSettingsMap": {},
     "title": ""
    }
   },
   "outputs": [],
   "source": [
    " order_items_df.select('price').summary().show()"
   ]
  },
  {
   "cell_type": "code",
   "execution_count": 0,
   "metadata": {
    "application/vnd.databricks.v1+cell": {
     "cellMetadata": {
      "byteLimit": 2048000,
      "rowLimit": 10000
     },
     "collapsed": true,
     "inputWidgets": {},
     "nuid": "2d539e9f-ccf8-4a27-bcab-5f4d32bff823",
     "showTitle": false,
     "tableResultSettingsMap": {},
     "title": ""
    }
   },
   "outputs": [],
   "source": [
    "# Total Revenue per Seller\n",
    "\n",
    "'''order_items_grouped_df = order_items_df.groupBy('seller_id') \\\n",
    "                .agg(sum('price').alias('total_revenue_per_seller')) \\\n",
    "                .orderBy('total_revenue_per_seller', ascending=False)\n",
    "\n",
    "total_revenue = order_items_grouped_df.join(sellers_df, on='seller_id', how='left')'''\n",
    "\n",
    "t_revenue_per_seller = final_df.groupBy('seller_id') \\\n",
    "                    .agg(round(sum('price'),2).alias('total_revenue_per_seller')) \\\n",
    "                    .orderBy('total_revenue_per_seller', ascending=False)\n",
    "\n",
    "display(t_revenue_per_seller)"
   ]
  },
  {
   "cell_type": "code",
   "execution_count": 0,
   "metadata": {
    "application/vnd.databricks.v1+cell": {
     "cellMetadata": {
      "byteLimit": 2048000,
      "rowLimit": 10000
     },
     "collapsed": true,
     "inputWidgets": {},
     "nuid": "a5d8c8b5-1aac-432b-9d9a-fe13303238b2",
     "showTitle": false,
     "tableResultSettingsMap": {},
     "title": ""
    }
   },
   "outputs": [],
   "source": [
    "display(t_revenue_per_seller.select('seller_id').distinct())"
   ]
  },
  {
   "cell_type": "code",
   "execution_count": 0,
   "metadata": {
    "application/vnd.databricks.v1+cell": {
     "cellMetadata": {
      "byteLimit": 2048000,
      "rowLimit": 10000
     },
     "collapsed": true,
     "inputWidgets": {},
     "nuid": "d208bed4-f735-454b-9df7-7be2ea4ad89f",
     "showTitle": false,
     "tableResultSettingsMap": {},
     "title": ""
    }
   },
   "outputs": [],
   "source": [
    "# AVG Review Per Seller\n",
    "\n",
    "avg_rev_per_seller = final_df.groupBy('seller_id') \\\n",
    "                .agg(avg('review_score').alias('avg_review_per_seller')) \\\n",
    "                .orderBy('avg_review_per_seller', ascending=False)\n",
    "\n",
    "display(avg_rev_per_seller)"
   ]
  },
  {
   "cell_type": "code",
   "execution_count": 0,
   "metadata": {
    "application/vnd.databricks.v1+cell": {
     "cellMetadata": {
      "byteLimit": 2048000,
      "rowLimit": 10000
     },
     "collapsed": true,
     "inputWidgets": {},
     "nuid": "dd94394a-1a88-4f70-9918-ba48dc8aba33",
     "showTitle": false,
     "tableResultSettingsMap": {},
     "title": ""
    }
   },
   "outputs": [],
   "source": [
    "# Most Sold Products (Top 10)\n",
    "\n",
    "top_10_product = final_df.filter(final_df.order_status == 'delivered') \\\n",
    "                .groupBy('product_id', 'product_category_name_english') \\\n",
    "                .agg(round(sum('price'),2).alias('top_10_most_sold_product')) \\\n",
    "                .orderBy('top_10_most_sold_product', ascending=False) \\\n",
    "                .limit(10)\n",
    "\n",
    "display(top_10_product)"
   ]
  },
  {
   "cell_type": "code",
   "execution_count": 0,
   "metadata": {
    "application/vnd.databricks.v1+cell": {
     "cellMetadata": {
      "byteLimit": 2048000,
      "rowLimit": 10000
     },
     "collapsed": true,
     "inputWidgets": {},
     "nuid": "e5b70da3-847e-4346-b24a-81f3a8415ba2",
     "showTitle": false,
     "tableResultSettingsMap": {},
     "title": ""
    }
   },
   "outputs": [],
   "source": [
    "# Total Order Per Customer\n",
    "\n",
    "t_orders_per_cus = final_df.filter(final_df.order_status == 'delivered') \\\n",
    "                .groupBy('customer_id') \\\n",
    "                .agg(count('order_id').alias('total_order_per_customer')) \\\n",
    "                .orderBy(desc('total_order_per_customer')) \\\n",
    "                .limit(10)\n",
    "\n",
    "display(t_orders_per_cus)"
   ]
  },
  {
   "cell_type": "code",
   "execution_count": 0,
   "metadata": {
    "application/vnd.databricks.v1+cell": {
     "cellMetadata": {
      "byteLimit": 2048000,
      "rowLimit": 10000
     },
     "collapsed": true,
     "inputWidgets": {},
     "nuid": "0501ece7-3a5c-486b-8b59-d6bea0c9d9ef",
     "showTitle": false,
     "tableResultSettingsMap": {},
     "title": ""
    }
   },
   "outputs": [],
   "source": [
    "# Top Customer Per Spending\n",
    "\n",
    "top_10_product = final_df.filter(final_df.order_status == 'delivered') \\\n",
    "                .groupBy('customer_id') \\\n",
    "                .agg(round(sum('price'),2).alias('top_customer_per_spending')) \\\n",
    "                .orderBy(desc('top_customer_per_spending')) \\\n",
    "                .limit(10)\n",
    "\n",
    "display(top_10_product)"
   ]
  },
  {
   "cell_type": "code",
   "execution_count": 0,
   "metadata": {
    "application/vnd.databricks.v1+cell": {
     "cellMetadata": {
      "byteLimit": 2048000,
      "rowLimit": 10000
     },
     "collapsed": true,
     "inputWidgets": {},
     "nuid": "027bfee7-94bd-4172-8c29-7ea6cba20d34",
     "showTitle": false,
     "tableResultSettingsMap": {},
     "title": ""
    }
   },
   "outputs": [],
   "source": [
    "# Rank Per Seller Based On Revenue\n",
    "\n",
    "window_spec = Window.partitionBy('seller_id').orderBy(desc('price'))\n",
    "\n",
    "rnk_per_seller = final_df.withColumn('rank', rank().over(window_spec)).filter(col('rank')<=5)\n",
    "den_per_seller = final_df.withColumn('dense_rank', dense_rank().over(window_spec)).filter(col('dense_rank')<=5)"
   ]
  },
  {
   "cell_type": "code",
   "execution_count": 0,
   "metadata": {
    "application/vnd.databricks.v1+cell": {
     "cellMetadata": {
      "byteLimit": 2048000,
      "rowLimit": 10000
     },
     "collapsed": true,
     "inputWidgets": {},
     "nuid": "821b8ae6-ca6e-4572-ba04-2f266828d21b",
     "showTitle": false,
     "tableResultSettingsMap": {},
     "title": ""
    }
   },
   "outputs": [],
   "source": [
    "display(den_per_seller.select('seller_id', 'price', 'dense_rank'))"
   ]
  },
  {
   "cell_type": "code",
   "execution_count": 0,
   "metadata": {
    "application/vnd.databricks.v1+cell": {
     "cellMetadata": {
      "byteLimit": 2048000,
      "rowLimit": 10000
     },
     "inputWidgets": {},
     "nuid": "9b9a835a-581f-4ea9-a254-d6b2ee1676be",
     "showTitle": false,
     "tableResultSettingsMap": {},
     "title": ""
    }
   },
   "outputs": [],
   "source": [
    "# Seller Performance Metrics (Revenue, Avg Reveiw, Order Count)\n",
    "\n",
    "seller_per_mt = final_df.groupBy('seller_id') \\\n",
    "  .agg(\n",
    "    count('order_id').alias('total_orders'),\n",
    "    round(sum('price'), 2).alias('total_revenue'),\n",
    "    round(avg('review_score'), 2).alias('avg_review_score'),\n",
    "    round(stddev('price'), 2).alias('price_variability')\n",
    "  ) \\\n",
    "  .orderBy(desc('total_revenue'))"
   ]
  },
  {
   "cell_type": "code",
   "execution_count": 0,
   "metadata": {
    "application/vnd.databricks.v1+cell": {
     "cellMetadata": {
      "byteLimit": 2048000,
      "rowLimit": 10000
     },
     "collapsed": true,
     "inputWidgets": {},
     "nuid": "19ce983c-c800-44e9-840d-32c31cdfdd17",
     "showTitle": false,
     "tableResultSettingsMap": {},
     "title": ""
    }
   },
   "outputs": [],
   "source": [
    "display(seller_per_mt)"
   ]
  },
  {
   "cell_type": "code",
   "execution_count": 0,
   "metadata": {
    "application/vnd.databricks.v1+cell": {
     "cellMetadata": {
      "byteLimit": 2048000,
      "rowLimit": 10000
     },
     "inputWidgets": {},
     "nuid": "9a97ed8a-806f-4100-b6f8-2dc95751051a",
     "showTitle": false,
     "tableResultSettingsMap": {},
     "title": ""
    }
   },
   "outputs": [],
   "source": [
    "# Product Popularity Metrics\n",
    "\n",
    "product_per_mt = final_df.groupBy('product_id', 'product_category_name_english') \\\n",
    "  .agg(\n",
    "    count('order_id').alias('total_sales'),\n",
    "    round(sum('price'), 2).alias('total_revenue'),\n",
    "    round(avg('price'), 2).alias('avg_price'),\n",
    "    round(stddev('price'), 2).alias('price_volatility'),\n",
    "    collect_set('seller_id').alias('unique_seller'),\n",
    "    round(avg('review_score'), 2).alias('avg_review_score'),\n",
    "    count('review_id').alias('total_reviewes')\n",
    "  ) \\\n",
    "  .orderBy(desc('total_sales'))"
   ]
  },
  {
   "cell_type": "code",
   "execution_count": 0,
   "metadata": {
    "application/vnd.databricks.v1+cell": {
     "cellMetadata": {
      "byteLimit": 2048000,
      "rowLimit": 10000
     },
     "collapsed": true,
     "inputWidgets": {},
     "nuid": "709a920c-6390-4017-85bb-b274d5afdd11",
     "showTitle": false,
     "tableResultSettingsMap": {},
     "title": ""
    }
   },
   "outputs": [],
   "source": [
    "display(product_per_mt)"
   ]
  },
  {
   "cell_type": "code",
   "execution_count": 0,
   "metadata": {
    "application/vnd.databricks.v1+cell": {
     "cellMetadata": {
      "byteLimit": 2048000,
      "rowLimit": 10000
     },
     "collapsed": true,
     "inputWidgets": {},
     "nuid": "bffe0efd-eff7-4ada-9891-b8e7e5836f9e",
     "showTitle": false,
     "tableResultSettingsMap": {},
     "title": ""
    }
   },
   "outputs": [],
   "source": [
    "# Customer Retention Ananlysis\n",
    "\n",
    "cust_ren = final_df.groupBy('customer_id') \\\n",
    "  .agg(\n",
    "    first('order_purchase_timestamp').alias('first_order_date'),\n",
    "    last('order_purchase_timestamp').alias('last_order_date'),\n",
    "    count('order_id').alias('total_orders'),\n",
    "    round(sum('price'), 2).alias('total_revenue'),\n",
    "    round(avg('price'), 2).alias('avg_price')\n",
    "  ) \\\n",
    "  .orderBy(desc('total_orders'))"
   ]
  },
  {
   "cell_type": "code",
   "execution_count": 0,
   "metadata": {
    "application/vnd.databricks.v1+cell": {
     "cellMetadata": {
      "byteLimit": 2048000,
      "rowLimit": 10000
     },
     "collapsed": true,
     "inputWidgets": {},
     "nuid": "18cc24c6-fb97-4319-abff-431032ecb9f9",
     "showTitle": false,
     "tableResultSettingsMap": {},
     "title": ""
    }
   },
   "outputs": [],
   "source": [
    "display(cust_ren) "
   ]
  },
  {
   "cell_type": "code",
   "execution_count": 0,
   "metadata": {
    "application/vnd.databricks.v1+cell": {
     "cellMetadata": {
      "byteLimit": 2048000,
      "rowLimit": 10000
     },
     "inputWidgets": {},
     "nuid": "1a56e623-63b1-4d7c-9242-f178f40b115c",
     "showTitle": false,
     "tableResultSettingsMap": {},
     "title": ""
    }
   },
   "outputs": [],
   "source": [
    "# Order Volume By Customer State\n",
    "\n",
    "total_orders_by_state = final_df.filter(final_df.order_status == 'delivered') \\\n",
    "    .groupBy('geolocation_state') \\\n",
    "    .agg(count('order_id').alias('order_volume'),\n",
    "         round(sum('price'), 2).alias('total_spending')) \\\n",
    "    .orderBy(desc('order_volume'))"
   ]
  },
  {
   "cell_type": "code",
   "execution_count": 0,
   "metadata": {
    "application/vnd.databricks.v1+cell": {
     "cellMetadata": {
      "byteLimit": 2048000,
      "rowLimit": 10000
     },
     "collapsed": true,
     "inputWidgets": {},
     "nuid": "bd440ea6-0ce6-45c5-b7b9-31a072e09d07",
     "showTitle": false,
     "tableResultSettingsMap": {},
     "title": ""
    }
   },
   "outputs": [],
   "source": [
    "display(total_orders_by_state)"
   ]
  },
  {
   "cell_type": "code",
   "execution_count": 0,
   "metadata": {
    "application/vnd.databricks.v1+cell": {
     "cellMetadata": {
      "byteLimit": 2048000,
      "rowLimit": 10000
     },
     "inputWidgets": {},
     "nuid": "8a0f6893-f386-419f-8b41-2d446166103b",
     "showTitle": false,
     "tableResultSettingsMap": {},
     "title": ""
    }
   },
   "outputs": [],
   "source": [
    "print(\"Partitions:\", orders_df.rdd.getNumPartitions())"
   ]
  },
  {
   "cell_type": "code",
   "execution_count": 0,
   "metadata": {
    "application/vnd.databricks.v1+cell": {
     "cellMetadata": {
      "byteLimit": 2048000,
      "rowLimit": 10000
     },
     "collapsed": true,
     "inputWidgets": {},
     "nuid": "03c78b63-1130-4bb1-a38f-6814de7c6bbb",
     "showTitle": false,
     "tableResultSettingsMap": {},
     "title": ""
    }
   },
   "outputs": [],
   "source": [
    "top_10_product.explain(True)"
   ]
  },
  {
   "cell_type": "code",
   "execution_count": 0,
   "metadata": {
    "application/vnd.databricks.v1+cell": {
     "cellMetadata": {
      "byteLimit": 2048000,
      "implicitDf": true,
      "rowLimit": 10000
     },
     "collapsed": true,
     "inputWidgets": {},
     "nuid": "bcf65ee1-dac1-4304-8bf5-85483f3258f0",
     "showTitle": false,
     "tableResultSettingsMap": {},
     "title": ""
    }
   },
   "outputs": [],
   "source": [
    "%sql\n",
    "SELECT * FROM delta.`/FileStore/Transformation/Final_DF` order by order_year_month desc;"
   ]
  },
  {
   "cell_type": "code",
   "execution_count": 0,
   "metadata": {
    "application/vnd.databricks.v1+cell": {
     "cellMetadata": {
      "byteLimit": 2048000,
      "rowLimit": 10000
     },
     "collapsed": true,
     "inputWidgets": {},
     "nuid": "5e6ac94a-e528-46b2-826c-91059b2490cd",
     "showTitle": false,
     "tableResultSettingsMap": {},
     "title": ""
    }
   },
   "outputs": [],
   "source": [
    "spark.sql('''\n",
    "\n",
    "CREATE TABLE IF NOT EXISTS prod_olist.ecommerce_olist\n",
    "USING DELTA\n",
    "LOCATION '/Volumes/olist/silver/Final_DF'\n",
    "\n",
    "''')"
   ]
  },
  {
   "cell_type": "code",
   "execution_count": 0,
   "metadata": {
    "application/vnd.databricks.v1+cell": {
     "cellMetadata": {
      "byteLimit": 2048000,
      "rowLimit": 10000
     },
     "inputWidgets": {},
     "nuid": "9d62016b-1526-4c35-955e-690fe1d81537",
     "showTitle": false,
     "tableResultSettingsMap": {},
     "title": ""
    }
   },
   "outputs": [],
   "source": [
    "spark.sql(\"CREATE DATABASE IF NOT EXISTS prod_olist\")"
   ]
  },
  {
   "cell_type": "code",
   "execution_count": 0,
   "metadata": {
    "application/vnd.databricks.v1+cell": {
     "cellMetadata": {
      "byteLimit": 2048000,
      "implicitDf": true,
      "rowLimit": 10000
     },
     "collapsed": true,
     "inputWidgets": {},
     "nuid": "44420e5b-b37a-4894-b96c-c2e66a1f24ce",
     "showTitle": false,
     "tableResultSettingsMap": {},
     "title": ""
    }
   },
   "outputs": [],
   "source": [
    "%sql\n",
    "select count(*) from prod_olist.ecommerce_olist;"
   ]
  },
  {
   "cell_type": "code",
   "execution_count": 0,
   "metadata": {
    "application/vnd.databricks.v1+cell": {
     "cellMetadata": {
      "byteLimit": 2048000,
      "implicitDf": true,
      "rowLimit": 10000
     },
     "collapsed": true,
     "inputWidgets": {},
     "nuid": "90c1b020-6bdc-4132-98e1-06de5a7ef485",
     "showTitle": false,
     "tableResultSettingsMap": {},
     "title": ""
    }
   },
   "outputs": [],
   "source": [
    "%sql\n",
    "select order_id, count(*) as count from ecommerce_olist group by order_id having count(*) > 1;"
   ]
  },
  {
   "cell_type": "markdown",
   "metadata": {
    "application/vnd.databricks.v1+cell": {
     "cellMetadata": {
      "byteLimit": 2048000,
      "rowLimit": 10000
     },
     "inputWidgets": {},
     "nuid": "a55d8989-cf15-4a5b-af7b-967a2bbbd961",
     "showTitle": false,
     "tableResultSettingsMap": {},
     "title": ""
    }
   },
   "source": []
  },
  {
   "cell_type": "code",
   "execution_count": 0,
   "metadata": {
    "application/vnd.databricks.v1+cell": {
     "cellMetadata": {
      "byteLimit": 2048000,
      "rowLimit": 10000
     },
     "inputWidgets": {},
     "nuid": "a19cf660-8e13-437f-943c-990211fa2793",
     "showTitle": false,
     "tableResultSettingsMap": {},
     "title": ""
    }
   },
   "outputs": [],
   "source": [
    "from pyspark.sql import DataFrame\n",
    "\n",
    "df_names = [var for var, val in globals().items() if isinstance(val, DataFrame)]\n",
    "print(f' The dataframe list: {df_names}')"
   ]
  },
  {
   "cell_type": "code",
   "execution_count": 0,
   "metadata": {
    "application/vnd.databricks.v1+cell": {
     "cellMetadata": {
      "byteLimit": 2048000,
      "rowLimit": 10000
     },
     "inputWidgets": {},
     "nuid": "932a3985-e93f-45aa-b6e6-50e6960873e3",
     "showTitle": false,
     "tableResultSettingsMap": {},
     "title": ""
    }
   },
   "outputs": [],
   "source": [
    "# Example\n",
    "df_registry = {}\n",
    "\n",
    "df_registry['customers'] = customers_df\n",
    "df_registry['orders'] = orders_df\n",
    "df_registry['products'] = products_df\n",
    "\n",
    "# To list all DataFrame names:\n",
    "print(df_registry.keys())  # dict_keys(['customers', 'orders', 'products'])\n",
    "\n",
    "# To access a specific DataFrame:\n",
    "df_registry['customers'].show()"
   ]
  },
  {
   "cell_type": "code",
   "execution_count": 0,
   "metadata": {
    "application/vnd.databricks.v1+cell": {
     "cellMetadata": {
      "byteLimit": 2048000,
      "rowLimit": 10000
     },
     "inputWidgets": {},
     "nuid": "672085fa-f737-4877-949b-6662a4eaf3f7",
     "showTitle": false,
     "tableResultSettingsMap": {},
     "title": ""
    }
   },
   "outputs": [],
   "source": [
    "geolocation_df.storageLevel\n",
    "#geolocation_df.explain(True)"
   ]
  }
 ],
 "metadata": {
  "application/vnd.databricks.v1+notebook": {
   "computePreferences": {
    "hardware": {
     "accelerator": null,
     "gpuPoolId": null,
     "memory": "HIGH"
    }
   },
   "dashboards": [],
   "environmentMetadata": {
    "base_environment": "",
    "environment_version": "2"
   },
   "inputWidgetPreferences": null,
   "language": "python",
   "notebookMetadata": {
    "mostRecentlyExecutedCommandWithImplicitDF": {
     "commandId": 6990975805795031,
     "dataframes": [
      "_sqldf"
     ]
    },
    "pythonIndentUnit": 4
   },
   "notebookName": "Olist Facts and Dimensions",
   "widgets": {}
  },
  "language_info": {
   "name": "python"
  }
 },
 "nbformat": 4,
 "nbformat_minor": 0
}

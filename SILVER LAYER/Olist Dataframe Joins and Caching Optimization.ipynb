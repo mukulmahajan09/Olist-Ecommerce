{
 "cells": [
  {
   "cell_type": "code",
   "execution_count": 0,
   "metadata": {
    "application/vnd.databricks.v1+cell": {
     "cellMetadata": {
      "byteLimit": 2048000,
      "rowLimit": 10000
     },
     "collapsed": true,
     "inputWidgets": {},
     "nuid": "327beef7-c80b-40a4-865f-53ea6f903603",
     "showTitle": false,
     "tableResultSettingsMap": {},
     "title": ""
    }
   },
   "outputs": [],
   "source": [
    "%run \"./Ecommerce Dataset Schema and Dataframes\""
   ]
  },
  {
   "cell_type": "code",
   "execution_count": 0,
   "metadata": {
    "application/vnd.databricks.v1+cell": {
     "cellMetadata": {
      "byteLimit": 2048000,
      "rowLimit": 10000
     },
     "inputWidgets": {},
     "nuid": "41076ef5-aefe-42ac-9e10-0dc682d8df8a",
     "showTitle": false,
     "tableResultSettingsMap": {},
     "title": ""
    }
   },
   "outputs": [],
   "source": [
    "from pyspark.sql.functions import *\n",
    "from pyspark.sql.window import Window"
   ]
  },
  {
   "cell_type": "code",
   "execution_count": 0,
   "metadata": {
    "application/vnd.databricks.v1+cell": {
     "cellMetadata": {
      "byteLimit": 2048000,
      "rowLimit": 10000
     },
     "inputWidgets": {},
     "nuid": "0a882195-5457-4b0f-baff-51bddd74e976",
     "showTitle": false,
     "tableResultSettingsMap": {},
     "title": ""
    }
   },
   "outputs": [],
   "source": [
    "orders_df = spark.read.parquet(\"/Volumes/olist/bronze/Orders\")"
   ]
  },
  {
   "cell_type": "code",
   "execution_count": 0,
   "metadata": {
    "application/vnd.databricks.v1+cell": {
     "cellMetadata": {
      "byteLimit": 2048000,
      "rowLimit": 10000
     },
     "inputWidgets": {},
     "nuid": "5dff830f-acc5-4519-a2a4-6170553316f9",
     "showTitle": false,
     "tableResultSettingsMap": {},
     "title": ""
    }
   },
   "outputs": [],
   "source": [
    "order_items_df = spark.read.parquet(\"/Volumes/olist/bronze/Order_Items\")"
   ]
  },
  {
   "cell_type": "code",
   "execution_count": 0,
   "metadata": {
    "application/vnd.databricks.v1+cell": {
     "cellMetadata": {
      "byteLimit": 2048000,
      "rowLimit": 10000
     },
     "inputWidgets": {},
     "nuid": "ca6dce2d-195b-442a-9207-0aac16f1153c",
     "showTitle": false,
     "tableResultSettingsMap": {},
     "title": ""
    }
   },
   "outputs": [],
   "source": [
    "orders_df = orders_df.repartition(16, \"order_id\")#.cache()\n",
    "order_items_df = order_items_df.repartition(16, \"item_order_id\")#.cache()"
   ]
  },
  {
   "cell_type": "code",
   "execution_count": 0,
   "metadata": {
    "application/vnd.databricks.v1+cell": {
     "cellMetadata": {
      "byteLimit": 2048000,
      "rowLimit": 10000
     },
     "inputWidgets": {},
     "nuid": "ea547c7e-b1ea-42a3-bcad-747d6447c5b4",
     "showTitle": false,
     "tableResultSettingsMap": {},
     "title": ""
    }
   },
   "outputs": [],
   "source": [
    "#orders_df.count()\n",
    "#order_items_df.count()"
   ]
  },
  {
   "cell_type": "code",
   "execution_count": 0,
   "metadata": {
    "application/vnd.databricks.v1+cell": {
     "cellMetadata": {
      "byteLimit": 2048000,
      "rowLimit": 10000
     },
     "inputWidgets": {},
     "nuid": "1b3c6a4d-f36d-4552-b792-8fc9ee1daa04",
     "showTitle": false,
     "tableResultSettingsMap": {},
     "title": ""
    }
   },
   "outputs": [],
   "source": [
    "products_df = spark.read.parquet('/Volumes/olist/bronze/Products')"
   ]
  },
  {
   "cell_type": "code",
   "execution_count": 0,
   "metadata": {
    "application/vnd.databricks.v1+cell": {
     "cellMetadata": {
      "byteLimit": 2048000,
      "rowLimit": 10000
     },
     "inputWidgets": {},
     "nuid": "3bc4d524-03b5-4558-a6cd-4fa6817874b4",
     "showTitle": false,
     "tableResultSettingsMap": {},
     "title": ""
    }
   },
   "outputs": [],
   "source": [
    "order_payments_df = spark.read.parquet('/Volumes/olist/bronze/Order_Payments')"
   ]
  },
  {
   "cell_type": "code",
   "execution_count": 0,
   "metadata": {
    "application/vnd.databricks.v1+cell": {
     "cellMetadata": {
      "byteLimit": 2048000,
      "rowLimit": 10000
     },
     "inputWidgets": {},
     "nuid": "96e8295b-8d6d-4d07-aa07-229794587ce7",
     "showTitle": false,
     "tableResultSettingsMap": {},
     "title": ""
    }
   },
   "outputs": [],
   "source": [
    "order_payments_df = order_payments_df.groupBy(\"payment_order_id\") \\\n",
    ".agg(\n",
    "    max(\"payment_sequential\").alias(\"max_payment_sequence\"),\n",
    "    collect_set(\"payment_type\").alias(\"payment_type\"),\n",
    "    sum(\"payment_installments\").alias(\"payment_installments\"),\n",
    "    count(\"*\").alias(\"payment_split_count\"),  # number of rows per order\n",
    "    sum(\"payment_value\").alias(\"payment_value\"),\n",
    "    sum(\"payment_value_imputed\").alias(\"payment_value_imputed\"),\n",
    ")"
   ]
  },
  {
   "cell_type": "code",
   "execution_count": 0,
   "metadata": {
    "application/vnd.databricks.v1+cell": {
     "cellMetadata": {
      "byteLimit": 2048000,
      "rowLimit": 10000
     },
     "inputWidgets": {},
     "nuid": "d75b8354-420a-4635-9aa9-9716a41939e8",
     "showTitle": false,
     "tableResultSettingsMap": {},
     "title": ""
    }
   },
   "outputs": [],
   "source": [
    "#order_payments_df.cache()\n",
    "#order_payments_df.count()"
   ]
  },
  {
   "cell_type": "code",
   "execution_count": 0,
   "metadata": {
    "application/vnd.databricks.v1+cell": {
     "cellMetadata": {
      "byteLimit": 2048000,
      "rowLimit": 10000
     },
     "inputWidgets": {},
     "nuid": "cc6dde54-07d7-470e-9050-344f55b5d7e5",
     "showTitle": false,
     "tableResultSettingsMap": {},
     "title": ""
    }
   },
   "outputs": [],
   "source": [
    "order_reviews_df = spark.read.parquet('/Volumes/olist/bronze/Order_Reviews')"
   ]
  },
  {
   "cell_type": "code",
   "execution_count": 0,
   "metadata": {
    "application/vnd.databricks.v1+cell": {
     "cellMetadata": {
      "byteLimit": 2048000,
      "rowLimit": 10000
     },
     "inputWidgets": {},
     "nuid": "37c39073-1f44-4a90-833f-0588a674bd71",
     "showTitle": false,
     "tableResultSettingsMap": {},
     "title": ""
    }
   },
   "outputs": [],
   "source": [
    "order_reviews_df = order_reviews_df.groupBy(\"review_order_id\") \\\n",
    ".agg(\n",
    "    collect_list(\"review_score\").alias(\"review_scores\"),\n",
    "    collect_list(\"review_comment_title\").alias(\"review_titles\"),\n",
    "    collect_list(\"review_comment_message\").alias(\"review_message\"),\n",
    "    first(\"review_creation_date\").alias(\"review_creation_date\"),\n",
    "    first(\"review_answer_timestamp\").alias(\"review_answer_timestamp\")\n",
    ")"
   ]
  },
  {
   "cell_type": "code",
   "execution_count": 0,
   "metadata": {
    "application/vnd.databricks.v1+cell": {
     "cellMetadata": {
      "byteLimit": 2048000,
      "rowLimit": 10000
     },
     "inputWidgets": {},
     "nuid": "91e25dcb-87a0-4b62-9201-dc4207ef615d",
     "showTitle": false,
     "tableResultSettingsMap": {},
     "title": ""
    }
   },
   "outputs": [],
   "source": [
    "#order_reviews_df.cache()\n",
    "#order_reviews_df.count()"
   ]
  },
  {
   "cell_type": "code",
   "execution_count": 0,
   "metadata": {
    "application/vnd.databricks.v1+cell": {
     "cellMetadata": {
      "byteLimit": 2048000,
      "rowLimit": 10000
     },
     "inputWidgets": {},
     "nuid": "b7167baf-f3bf-444c-966d-3ba274ca4fdf",
     "showTitle": false,
     "tableResultSettingsMap": {},
     "title": ""
    }
   },
   "outputs": [],
   "source": [
    "geolocation_df = geolocation_df.dropDuplicates([\"geolocation_lat\", \"geolocation_lng\"])"
   ]
  },
  {
   "cell_type": "code",
   "execution_count": 0,
   "metadata": {
    "application/vnd.databricks.v1+cell": {
     "cellMetadata": {
      "byteLimit": 2048000,
      "rowLimit": 10000
     },
     "inputWidgets": {},
     "nuid": "38af54fb-7843-4e38-a020-333150f6866f",
     "showTitle": false,
     "tableResultSettingsMap": {},
     "title": ""
    }
   },
   "outputs": [],
   "source": [
    "orders_items = orders_df.join(order_items_df, on=orders_df.order_id == order_items_df.item_order_id, how='inner')\n",
    "#orders_items.cache()"
   ]
  },
  {
   "cell_type": "code",
   "execution_count": 0,
   "metadata": {
    "application/vnd.databricks.v1+cell": {
     "cellMetadata": {
      "byteLimit": 2048000,
      "rowLimit": 10000
     },
     "inputWidgets": {},
     "nuid": "607dd682-c70f-4315-8dd0-998ea445ba71",
     "showTitle": false,
     "tableResultSettingsMap": {},
     "title": ""
    },
    "jupyter": {
     "outputs_hidden": true
    }
   },
   "outputs": [],
   "source": [
    "from pyspark.sql.functions import broadcast\n",
    "\n",
    "orders_items_products = orders_items.join(broadcast(products_df), on=orders_items.item_product_id == products_df.product_id, how='left')"
   ]
  },
  {
   "cell_type": "code",
   "execution_count": 0,
   "metadata": {
    "application/vnd.databricks.v1+cell": {
     "cellMetadata": {
      "byteLimit": 2048000,
      "rowLimit": 10000
     },
     "inputWidgets": {},
     "nuid": "d17ad3fc-c111-4b90-ace1-fd4a8dd653e9",
     "showTitle": false,
     "tableResultSettingsMap": {},
     "title": ""
    }
   },
   "outputs": [],
   "source": [
    "orders_items_products_sellers = orders_items_products.join(broadcast(sellers_df), on=orders_items_products.item_seller_id == sellers_df.seller_id, how='left')"
   ]
  },
  {
   "cell_type": "code",
   "execution_count": 0,
   "metadata": {
    "application/vnd.databricks.v1+cell": {
     "cellMetadata": {
      "byteLimit": 2048000,
      "rowLimit": 10000
     },
     "inputWidgets": {},
     "nuid": "fae210a4-5969-4f52-a8f3-3fed862156e7",
     "showTitle": false,
     "tableResultSettingsMap": {},
     "title": ""
    }
   },
   "outputs": [],
   "source": [
    "orders_items_products_sellers_payments = orders_items_products_sellers.join(order_payments_df, on=orders_items_products_sellers.order_id == order_payments_df.payment_order_id, how='left')"
   ]
  },
  {
   "cell_type": "code",
   "execution_count": 0,
   "metadata": {
    "application/vnd.databricks.v1+cell": {
     "cellMetadata": {
      "byteLimit": 2048000,
      "rowLimit": 10000
     },
     "inputWidgets": {},
     "nuid": "efec5acf-0ac2-45f4-8e38-23568ac2f42f",
     "showTitle": false,
     "tableResultSettingsMap": {},
     "title": ""
    }
   },
   "outputs": [],
   "source": [
    "orders_items_products_sellers_payments_customers = orders_items_products_sellers_payments.join(broadcast(customers_df), on=orders_items_products_sellers_payments.order_customer_id == customers_df.customer_id, how='left')"
   ]
  },
  {
   "cell_type": "code",
   "execution_count": 0,
   "metadata": {
    "application/vnd.databricks.v1+cell": {
     "cellMetadata": {
      "byteLimit": 2048000,
      "rowLimit": 10000
     },
     "inputWidgets": {},
     "nuid": "555cc034-ce90-4f94-9900-055d41ea296e",
     "showTitle": false,
     "tableResultSettingsMap": {},
     "title": ""
    }
   },
   "outputs": [],
   "source": [
    "orders_items_products_sellers_payments_customers_reviews = orders_items_products_sellers_payments_customers.join(order_reviews_df, on=orders_items_products_sellers_payments_customers.order_id == order_reviews_df.review_order_id, how='left')"
   ]
  },
  {
   "cell_type": "code",
   "execution_count": 0,
   "metadata": {
    "application/vnd.databricks.v1+cell": {
     "cellMetadata": {
      "byteLimit": 2048000,
      "rowLimit": 10000
     },
     "inputWidgets": {},
     "nuid": "51b5008d-4dd0-42cc-8b7a-f496fb1400e3",
     "showTitle": false,
     "tableResultSettingsMap": {},
     "title": ""
    }
   },
   "outputs": [],
   "source": [
    "orders_items_products_sellers_payments_customers_reviews_geolocation = orders_items_products_sellers_payments_customers_reviews.join(broadcast(geolocation_df), on=orders_items_products_sellers_payments_customers_reviews.customer_zip_code_prefix == geolocation_df.geolocation_zip_code_prefix, how='left')"
   ]
  },
  {
   "cell_type": "code",
   "execution_count": 0,
   "metadata": {
    "application/vnd.databricks.v1+cell": {
     "cellMetadata": {
      "byteLimit": 2048000,
      "rowLimit": 10000
     },
     "inputWidgets": {},
     "nuid": "1c09d42f-4e75-475c-b5ec-2d6b04a63971",
     "showTitle": false,
     "tableResultSettingsMap": {},
     "title": ""
    }
   },
   "outputs": [],
   "source": [
    "final_df = orders_items_products_sellers_payments_customers_reviews_geolocation.join(broadcast(products_name_translation_df), on='product_category_name', how='left')"
   ]
  },
  {
   "cell_type": "markdown",
   "metadata": {
    "application/vnd.databricks.v1+cell": {
     "cellMetadata": {
      "byteLimit": 2048000,
      "rowLimit": 10000
     },
     "inputWidgets": {},
     "nuid": "e2a8a359-b983-455c-9841-3a8fe94a83a2",
     "showTitle": false,
     "tableResultSettingsMap": {},
     "title": ""
    }
   },
   "source": [
    "### **ADD EXTRA COLUMNS TO FINAL DF**"
   ]
  },
  {
   "cell_type": "code",
   "execution_count": 0,
   "metadata": {
    "application/vnd.databricks.v1+cell": {
     "cellMetadata": {
      "byteLimit": 2048000,
      "rowLimit": 10000
     },
     "inputWidgets": {},
     "nuid": "901d59a3-cd9a-435c-bb24-1ec86fa76fe6",
     "showTitle": false,
     "tableResultSettingsMap": {},
     "title": ""
    }
   },
   "outputs": [],
   "source": [
    "# Total Revenue & Avg order value (AOV) Per Customer\n",
    "\n",
    "customer_spending = final_df.groupBy('order_customer_id') \\\n",
    "    .agg(\n",
    "        count('order_id').alias('total_orders'),\n",
    "            round(sum('price'),2).alias('total_spent'),\n",
    "                round(avg('price'), 2).alias('AOV')\n",
    "    ) \\\n",
    "        .orderBy(desc('total_spent'))"
   ]
  },
  {
   "cell_type": "code",
   "execution_count": 0,
   "metadata": {
    "application/vnd.databricks.v1+cell": {
     "cellMetadata": {
      "byteLimit": 2048000,
      "rowLimit": 10000
     },
     "inputWidgets": {},
     "nuid": "98593d54-c239-4777-9880-52ae324571ae",
     "showTitle": false,
     "tableResultSettingsMap": {},
     "title": ""
    }
   },
   "outputs": [],
   "source": [
    "quantiles = customer_spending.approxQuantile('AOV', [0.25, 0.75], 0.0)\n",
    "low_threshold, high_threshold = quantiles[0], quantiles[1]\n",
    "\n",
    "customer_segmented = customer_spending.withColumn('aov_segment',\n",
    "    when(col('AOV') >= high_threshold, 'High')\n",
    "    .when(col('AOV') < low_threshold, 'Low')\n",
    "    .otherwise('Medium')\n",
    ")"
   ]
  },
  {
   "cell_type": "code",
   "execution_count": 0,
   "metadata": {
    "application/vnd.databricks.v1+cell": {
     "cellMetadata": {
      "byteLimit": 2048000,
      "rowLimit": 10000
     },
     "inputWidgets": {},
     "nuid": "9ae832d7-8c94-45d1-ad17-ffc59ad1012d",
     "showTitle": false,
     "tableResultSettingsMap": {},
     "title": ""
    }
   },
   "outputs": [],
   "source": [
    "customer_segmented = customer_segmented.withColumnRenamed(\"order_customer_id\", \"order_customer_id_customer_segmented\")"
   ]
  },
  {
   "cell_type": "code",
   "execution_count": 0,
   "metadata": {
    "application/vnd.databricks.v1+cell": {
     "cellMetadata": {
      "byteLimit": 2048000,
      "rowLimit": 10000
     },
     "inputWidgets": {},
     "nuid": "185a1287-3d2d-42c6-99b2-cff485ef7e8e",
     "showTitle": false,
     "tableResultSettingsMap": {},
     "title": ""
    }
   },
   "outputs": [],
   "source": [
    "# AOV Customer Segment\n",
    "final_df = final_df.join(broadcast(customer_segmented), on=final_df.order_customer_id == customer_segmented.order_customer_id_customer_segmented, how='left')"
   ]
  },
  {
   "cell_type": "code",
   "execution_count": 0,
   "metadata": {
    "application/vnd.databricks.v1+cell": {
     "cellMetadata": {
      "byteLimit": 2048000,
      "rowLimit": 10000
     },
     "collapsed": true,
     "inputWidgets": {},
     "nuid": "7630c021-dbf4-4957-8efe-1670230dead3",
     "showTitle": false,
     "tableResultSettingsMap": {},
     "title": ""
    }
   },
   "outputs": [],
   "source": [
    "def add_feature_columns(final_df):\n",
    "\n",
    "    # Delivery Status\n",
    "    final_df = final_df.withColumn('is_delivered', \n",
    "                                   when(col('order_status') == 'delivered', lit(1)).otherwise(lit(0))) \\\n",
    "                        .withColumn('is_canceled', \n",
    "                                    when(col('order_status') == 'canceled', lit(1)).otherwise(lit(0)))\n",
    "\n",
    "    # Total Revenue\n",
    "    final_df = final_df.withColumn('order_revenue', col('price') + col('freight_value'))\n",
    "\n",
    "    # Missing Payment\n",
    "    final_df = final_df.withColumn('is_payment_missing', when(col('payment_value').isNull(), 1).otherwise(0))\n",
    "\n",
    "    # Order Review\n",
    "    final_df = final_df.withColumn('has_review', \\\n",
    "        when(\n",
    "        (array_contains(col('review_titles'), 'No Review')) & (array_contains(col('review_message'), 'No Review')), 'No Reivew')\n",
    "        .otherwise('Has Comment'))\n",
    "\n",
    "    # Review Time Delays\n",
    "    final_df = final_df.withColumn('time_from_delivery_to_review', \\\n",
    "        datediff(col('review_creation_date'), col('order_delivered_customer_date'))) \\\n",
    "        .withColumn('time_to_response', \\\n",
    "            datediff(col('review_answer_timestamp'), col('review_creation_date')))\n",
    "\n",
    "    # Hourly Order Distribution\n",
    "    final_df = final_df.withColumn('hour_of_day', expr('hour(order_purchase_timestamp)'))\n",
    "\n",
    "    # WeekDay VS WeekEnd Orders\n",
    "    final_df = final_df.withColumn('order_day_type', \\\n",
    "        when(dayofweek('order_purchase_timestamp').isin([1,7]),lit('Weekend')).otherwise(lit('Weekday')))\n",
    "\n",
    "    # Calculate Delivery Time & Time Delays\n",
    "    final_df = final_df.withColumn('actual_delivery_time', \\\n",
    "        when(col('order_delivered_customer_date').isNotNull(), \\\n",
    "        datediff('order_delivered_customer_date', 'order_purchase_timestamp'))\n",
    "        .otherwise(None)\n",
    "    ) \\\n",
    "    .withColumn('estimated_delivery_time', \\\n",
    "        when(col('order_estimated_delivery_date').isNotNull(),\n",
    "        datediff('order_estimated_delivery_date', 'order_purchase_timestamp'))\n",
    "        .otherwise(None)\n",
    "    ) \\\n",
    "    .withColumn('delivery_delay_time', \\\n",
    "        when(col('actual_delivery_time').isNotNull() & col('estimated_delivery_time').isNotNull(),\n",
    "        col('actual_delivery_time') - col('estimated_delivery_time'))\n",
    "        .otherwise(None)\n",
    "    ) \\\n",
    "    .withColumn('is_late', \\\n",
    "        when((col('delivery_delay_time').isNotNull()) & (col('delivery_delay_time') > 0), 1)\n",
    "        .otherwise(0)\n",
    "    )\n",
    "\n",
    "\n",
    "    return final_df"
   ]
  },
  {
   "cell_type": "code",
   "execution_count": 0,
   "metadata": {
    "application/vnd.databricks.v1+cell": {
     "cellMetadata": {
      "byteLimit": 2048000,
      "rowLimit": 10000
     },
     "collapsed": true,
     "inputWidgets": {},
     "nuid": "eb884cc3-562d-4599-88c6-ae0ac3a4f7d5",
     "showTitle": false,
     "tableResultSettingsMap": {},
     "title": ""
    }
   },
   "outputs": [],
   "source": [
    "final_df = add_feature_columns(final_df)"
   ]
  },
  {
   "cell_type": "code",
   "execution_count": 0,
   "metadata": {
    "application/vnd.databricks.v1+cell": {
     "cellMetadata": {
      "byteLimit": 2048000,
      "rowLimit": 10000
     },
     "inputWidgets": {},
     "nuid": "24e5382b-bcef-4694-a070-c4e9da653947",
     "showTitle": false,
     "tableResultSettingsMap": {},
     "title": ""
    }
   },
   "outputs": [],
   "source": [
    "# Partition based on the order_year_month\n",
    "final_df = final_df.withColumn(\"order_year_month\", date_format(\"order_purchase_timestamp\", \"yyyy-MM\"))"
   ]
  },
  {
   "cell_type": "markdown",
   "metadata": {
    "application/vnd.databricks.v1+cell": {
     "cellMetadata": {
      "byteLimit": 2048000,
      "rowLimit": 10000
     },
     "inputWidgets": {},
     "nuid": "7083bac5-7b7c-4139-b532-2398dc838d9e",
     "showTitle": false,
     "tableResultSettingsMap": {},
     "title": ""
    }
   },
   "source": [
    "### **CACHE THE FINAL DATAFRAME**"
   ]
  },
  {
   "cell_type": "code",
   "execution_count": 0,
   "metadata": {
    "application/vnd.databricks.v1+cell": {
     "cellMetadata": {
      "byteLimit": 2048000,
      "rowLimit": 10000
     },
     "collapsed": true,
     "inputWidgets": {},
     "nuid": "a0a6e975-3e1f-41a0-9e59-d8183ed277bb",
     "showTitle": false,
     "tableResultSettingsMap": {},
     "title": ""
    }
   },
   "outputs": [],
   "source": [
    "#final_df.cache()"
   ]
  },
  {
   "cell_type": "code",
   "execution_count": 0,
   "metadata": {
    "application/vnd.databricks.v1+cell": {
     "cellMetadata": {
      "byteLimit": 2048000,
      "rowLimit": 10000
     },
     "collapsed": true,
     "inputWidgets": {},
     "nuid": "cffc7c54-60e0-4c7d-ac37-4947fbcca983",
     "showTitle": false,
     "tableResultSettingsMap": {},
     "title": ""
    }
   },
   "outputs": [],
   "source": [
    "#final_df.count()"
   ]
  },
  {
   "cell_type": "code",
   "execution_count": 0,
   "metadata": {
    "application/vnd.databricks.v1+cell": {
     "cellMetadata": {
      "byteLimit": 2048000,
      "rowLimit": 10000
     },
     "collapsed": true,
     "inputWidgets": {},
     "nuid": "3a4cfc85-1a82-42df-9d74-25c0f2aa385f",
     "showTitle": false,
     "tableResultSettingsMap": {},
     "title": ""
    }
   },
   "outputs": [],
   "source": [
    "#from pyspark import StorageLevel\n",
    "\n",
    "#final_df = final_df.repartition(16, 'order_id').persist(StorageLevel.MEMORY_AND_DISK)\n",
    "#final_df.count()  # or better: display(final_df)"
   ]
  },
  {
   "cell_type": "markdown",
   "metadata": {
    "application/vnd.databricks.v1+cell": {
     "cellMetadata": {
      "byteLimit": 2048000,
      "rowLimit": 10000
     },
     "inputWidgets": {},
     "nuid": "63ec22bb-4da5-4f16-be5d-9bdda5be107e",
     "showTitle": false,
     "tableResultSettingsMap": {},
     "title": ""
    }
   },
   "source": [
    "### **SAVE FINAL DF DATA TO DELTA FILE FORMAT**"
   ]
  },
  {
   "cell_type": "code",
   "execution_count": 0,
   "metadata": {
    "application/vnd.databricks.v1+cell": {
     "cellMetadata": {
      "byteLimit": 2048000,
      "implicitDf": true,
      "rowLimit": 10000
     },
     "inputWidgets": {},
     "nuid": "990e1469-56f1-4d3d-bb1e-e80c550131c4",
     "showTitle": false,
     "tableResultSettingsMap": {},
     "title": ""
    }
   },
   "outputs": [],
   "source": [
    "%sql\n",
    "CREATE VOLUME IF NOT EXISTS olist.silver.final_df"
   ]
  },
  {
   "cell_type": "code",
   "execution_count": 0,
   "metadata": {
    "application/vnd.databricks.v1+cell": {
     "cellMetadata": {
      "byteLimit": 2048000,
      "rowLimit": 10000
     },
     "inputWidgets": {},
     "nuid": "e6e31b7d-6e17-4f99-8f58-3de39956f42f",
     "showTitle": false,
     "tableResultSettingsMap": {},
     "title": ""
    }
   },
   "outputs": [],
   "source": [
    "final_df.write.format('delta') \\\n",
    "    .mode('overwrite') \\\n",
    "    .option('mergeSchema', 'true') \\\n",
    "    .partitionBy('order_year_month') \\\n",
    "    .save('/Volumes/olist/silver/final_df')"
   ]
  },
  {
   "cell_type": "markdown",
   "metadata": {
    "application/vnd.databricks.v1+cell": {
     "cellMetadata": {
      "byteLimit": 2048000,
      "rowLimit": 10000
     },
     "inputWidgets": {},
     "nuid": "df179958-f50e-403a-a017-5cc046c19758",
     "showTitle": false,
     "tableResultSettingsMap": {},
     "title": ""
    }
   },
   "source": [
    "### **CREATE TABLE ON FINAL DATAFRAME**"
   ]
  },
  {
   "cell_type": "code",
   "execution_count": 0,
   "metadata": {
    "application/vnd.databricks.v1+cell": {
     "cellMetadata": {
      "byteLimit": 2048000,
      "rowLimit": 10000
     },
     "inputWidgets": {},
     "nuid": "6159bb69-6b1c-426b-8d41-8828a130c40b",
     "showTitle": false,
     "tableResultSettingsMap": {},
     "title": ""
    }
   },
   "outputs": [],
   "source": [
    "final_df.write \\\n",
    "    .format('delta') \\\n",
    "    .mode('overwrite') \\\n",
    "    .option('mergeSchema', 'true') \\\n",
    "    .partitionBy('order_year_month') \\\n",
    "    .saveAsTable('olist.gold.final_df')"
   ]
  }
 ],
 "metadata": {
  "application/vnd.databricks.v1+notebook": {
   "computePreferences": {
    "hardware": {
     "accelerator": null,
     "gpuPoolId": null,
     "memory": "HIGH"
    }
   },
   "dashboards": [],
   "environmentMetadata": {
    "base_environment": "",
    "environment_version": "2"
   },
   "inputWidgetPreferences": null,
   "language": "python",
   "notebookMetadata": {
    "mostRecentlyExecutedCommandWithImplicitDF": {
     "commandId": 6990975805795031,
     "dataframes": [
      "_sqldf"
     ]
    },
    "pythonIndentUnit": 4
   },
   "notebookName": "Olist Dataframe Joins and Caching Optimization",
   "widgets": {}
  },
  "language_info": {
   "name": "python"
  }
 },
 "nbformat": 4,
 "nbformat_minor": 0
}

{
 "cells": [
  {
   "cell_type": "markdown",
   "metadata": {
    "application/vnd.databricks.v1+cell": {
     "cellMetadata": {
      "byteLimit": 2048000,
      "rowLimit": 10000
     },
     "inputWidgets": {},
     "nuid": "6b805832-904f-4abb-89ce-693c94f1f6a6",
     "showTitle": false,
     "tableResultSettingsMap": {},
     "title": ""
    }
   },
   "source": [
    "### **DATA VALIDATION**"
   ]
  },
  {
   "cell_type": "code",
   "execution_count": 0,
   "metadata": {
    "application/vnd.databricks.v1+cell": {
     "cellMetadata": {
      "byteLimit": 2048000,
      "rowLimit": 10000
     },
     "inputWidgets": {},
     "nuid": "4496f95a-1f18-41fc-b982-d8d72d64f5b8",
     "showTitle": false,
     "tableResultSettingsMap": {},
     "title": ""
    }
   },
   "outputs": [],
   "source": [
    "final_df = spark.read.format(\"delta\").load(\"/Volumes/olist/silver/final_df\")"
   ]
  },
  {
   "cell_type": "code",
   "execution_count": 0,
   "metadata": {
    "application/vnd.databricks.v1+cell": {
     "cellMetadata": {
      "byteLimit": 2048000,
      "rowLimit": 10000
     },
     "collapsed": true,
     "inputWidgets": {},
     "nuid": "46881b13-a14d-4170-87f7-c6be81b31d34",
     "showTitle": false,
     "tableResultSettingsMap": {},
     "title": ""
    }
   },
   "outputs": [],
   "source": [
    "display(final_df.columns)"
   ]
  },
  {
   "cell_type": "code",
   "execution_count": 0,
   "metadata": {
    "application/vnd.databricks.v1+cell": {
     "cellMetadata": {
      "byteLimit": 2048000,
      "rowLimit": 10000
     },
     "inputWidgets": {},
     "nuid": "06b710ee-aff8-476e-abc6-a4c69eaa523e",
     "showTitle": false,
     "tableResultSettingsMap": {},
     "title": ""
    }
   },
   "outputs": [],
   "source": [
    "print(\"Total orders:\", orders_df.count())\n",
    "print(\"Total items:\", order_items_df.count())\n",
    "print(\"Total After Join orders with items:\", orders_items.count())\n",
    "\n",
    "print(\"Total products:\", products_df.count())\n",
    "print(\"Total After Join products with orders_items:\", orders_items_products.count())\n",
    "\n",
    "print(\"Total seller:\", sellers_df.count())\n",
    "print(\"Total After Join seller with orders_items_products:\", orders_items_products_sellers.count())\n",
    "\n",
    "print(\"Total payments:\", order_payments_df.count())\n",
    "print(\"Total After Join payments with orders_items_products_sellers:\", orders_items_products_sellers_payments.count())\n",
    "print(\"Nulls in payment_value:\", orders_items_products_sellers_payments.filter(\"payment_value IS NULL\").count())\n",
    "\n",
    "print(\"Total customers:\", customers_df.count())\n",
    "print(\"Total After Join customers with orders_items_products_sellers_payments:\", orders_items_products_sellers_payments_customers.count())\n",
    "\n",
    "print(\"Total reviews:\", order_reviews_df.count())\n",
    "print(\"Total After Join reviews with orders_items_products_sellers_payments_customers:\", orders_items_products_sellers_payments_customers_reviews.count())\n",
    "\n",
    "print(\"Total geolocation:\", geolocation_df.count())\n",
    "print(\"Total After Join geolocation with orders_items_products_sellers_payments_customers_reviews:\", orders_items_products_sellers_payments_customers_reviews_geolocation.count())\n",
    "\n",
    "print(\"Total names:\", products_name_translation_df.count())\n",
    "print(\"Total After Join names with orders_items_products_sellers_payments_customers_reviews_names:\", final_df.count())"
   ]
  },
  {
   "cell_type": "code",
   "execution_count": 0,
   "metadata": {
    "application/vnd.databricks.v1+cell": {
     "cellMetadata": {
      "byteLimit": 2048000,
      "rowLimit": 10000
     },
     "inputWidgets": {},
     "nuid": "d0d4ed91-557d-40e0-9ccb-e5e22815468e",
     "showTitle": false,
     "tableResultSettingsMap": {},
     "title": ""
    }
   },
   "outputs": [],
   "source": [
    "print([col for col in final_df.columns if final_df.columns.count(col) > 1])"
   ]
  },
  {
   "cell_type": "code",
   "execution_count": 0,
   "metadata": {
    "application/vnd.databricks.v1+cell": {
     "cellMetadata": {
      "byteLimit": 2048000,
      "rowLimit": 10000
     },
     "collapsed": true,
     "inputWidgets": {},
     "nuid": "bc10a970-3dca-432d-b453-00b8e5935338",
     "showTitle": false,
     "tableResultSettingsMap": {},
     "title": ""
    }
   },
   "outputs": [],
   "source": [
    "display(final_df.select([count(when(col(c).isNull(), c)).alias(c) for c in final_df.columns]))"
   ]
  },
  {
   "cell_type": "code",
   "execution_count": 0,
   "metadata": {
    "application/vnd.databricks.v1+cell": {
     "cellMetadata": {
      "byteLimit": 2048000,
      "rowLimit": 10000
     },
     "collapsed": true,
     "inputWidgets": {},
     "nuid": "e9ba8834-772a-4cc0-af70-dc4fc990c3f7",
     "showTitle": false,
     "tableResultSettingsMap": {},
     "title": ""
    }
   },
   "outputs": [],
   "source": [
    "from pyspark.sql import functions as F\n",
    "\n",
    "display(order_payments_df.select(*[\n",
    "    (\n",
    "        F.count(F.when((F.isnan(c) | F.col(c).isNull()), c)) if t in (\"int\", \"double\", \"float\")\n",
    "        else F.count(F.when(F.col(c).isNull(), c))\n",
    "    ).alias(c)\n",
    "    for c, t in order_payments_df.dtypes if c in order_payments_df.columns\n",
    "]))"
   ]
  },
  {
   "cell_type": "code",
   "execution_count": 0,
   "metadata": {
    "application/vnd.databricks.v1+cell": {
     "cellMetadata": {
      "byteLimit": 2048000,
      "rowLimit": 10000
     },
     "inputWidgets": {},
     "nuid": "ac7d5a23-5ef6-449b-beab-21aa5aad8fae",
     "showTitle": false,
     "tableResultSettingsMap": {},
     "title": ""
    }
   },
   "outputs": [],
   "source": [
    "from pyspark.sql.functions import col\n",
    "\n",
    "def filter_invalid_hex_ids(df, column_name, show_invalid=True):\n",
    "    \"\"\"Filter out rows with invalid hexadecimal IDs in the specified column.\"\"\"\n",
    "    pattern = r\"^[a-fA-F0-9]{32}$\"\n",
    "\n",
    "    # Identify invalid rows\n",
    "    invalid_rows_df = df.filter(~col(column_name).rlike(pattern))\n",
    "    invalid_count = invalid_rows_df.count()\n",
    "\n",
    "    if show_invalid:\n",
    "        if invalid_count > 0:\n",
    "            print(f\"❌ Found {invalid_count} invalid rows in column '{column_name}':\")\n",
    "            display(invalid_rows_df)\n",
    "        else:\n",
    "            print(f\"✅ No invalid rows found in column '{column_name}'.\")\n",
    "\n",
    "    # Return only valid rows\n",
    "    return df.filter(col(column_name).rlike(pattern))"
   ]
  },
  {
   "cell_type": "code",
   "execution_count": 0,
   "metadata": {
    "application/vnd.databricks.v1+cell": {
     "cellMetadata": {
      "byteLimit": 2048000,
      "rowLimit": 10000
     },
     "inputWidgets": {},
     "nuid": "296ee97b-8797-4d66-a616-75ebfc805558",
     "showTitle": false,
     "tableResultSettingsMap": {},
     "title": ""
    }
   },
   "outputs": [],
   "source": [
    "filter_invalid_hex_ids = filter_invalid_hex_ids(final_df, 'review_order_id')"
   ]
  },
  {
   "cell_type": "code",
   "execution_count": 0,
   "metadata": {
    "application/vnd.databricks.v1+cell": {
     "cellMetadata": {
      "byteLimit": 2048000,
      "rowLimit": 10000
     },
     "inputWidgets": {},
     "nuid": "05cb9f9c-7f27-4fe9-8401-57336a77336d",
     "showTitle": false,
     "tableResultSettingsMap": {},
     "title": ""
    }
   },
   "outputs": [],
   "source": [
    "def uniqueness(df_name, df_name_str, column_names):\n",
    "    print(f'Dataframe is {df_name_str}')\n",
    "    for column_name in column_names:\n",
    "        print(f\"Checking uniqueness for column: {column_name}\")\n",
    "        display(df_name.groupBy(column_name).count().filter(\"count > 1\"))"
   ]
  },
  {
   "cell_type": "code",
   "execution_count": 0,
   "metadata": {
    "application/vnd.databricks.v1+cell": {
     "cellMetadata": {
      "byteLimit": 2048000,
      "rowLimit": 10000
     },
     "inputWidgets": {},
     "nuid": "9ca9069f-c9ee-403d-8e8d-7c75646ec1d9",
     "showTitle": false,
     "tableResultSettingsMap": {},
     "title": ""
    }
   },
   "outputs": [],
   "source": [
    "# uniqueness(customers_df, 'customers_df', ['customer_id', 'customer_unique_id'])\n",
    "# uniqueness(orders_df, 'orders_df', ['order_id', 'customer_id'])\n",
    "# uniqueness(order_items_df, 'order_items_df', ['order_id', 'order_item_id', 'product_id', 'seller_id'])\n",
    "# uniqueness(order_payments_df, 'order_payments_df', ['order_id'])\n",
    "# uniqueness(sellers_df, 'sellers_df', ['seller_id', 'seller_zip_code_prefix'])\n",
    "# uniqueness(products_df, 'products_df', ['product_id', 'product_category_name'])\n",
    "# uniqueness(order_reviews_df, 'order_reviews_df', ['review_id', 'review_order_id'])\n",
    "uniqueness(geolocation_df, 'geolocation_df', ['geolocation_lat'])\n",
    "# uniqueness(products_name_translation_df, 'products_name_translation_df', ['product_category_name', 'product_category_name_english'])"
   ]
  }
 ],
 "metadata": {
  "application/vnd.databricks.v1+notebook": {
   "computePreferences": null,
   "dashboards": [],
   "environmentMetadata": {
    "base_environment": "",
    "environment_version": "2"
   },
   "inputWidgetPreferences": null,
   "language": "python",
   "notebookMetadata": {
    "pythonIndentUnit": 4
   },
   "notebookName": "Olist Ecommerce Data Validation and Cleaning Process",
   "widgets": {}
  },
  "language_info": {
   "name": "python"
  }
 },
 "nbformat": 4,
 "nbformat_minor": 0
}
